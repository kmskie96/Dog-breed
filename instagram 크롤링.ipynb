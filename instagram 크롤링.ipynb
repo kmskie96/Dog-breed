{
 "cells": [
  {
   "cell_type": "markdown",
   "metadata": {},
   "source": [
    "# 필요한 패키지, 모듈 및 함수 불러오기"
   ]
  },
  {
   "cell_type": "code",
   "execution_count": 1,
   "metadata": {},
   "outputs": [],
   "source": [
    "import requests, time, sqlite3, os\n",
    "import pandas as pd"
   ]
  },
  {
   "cell_type": "markdown",
   "metadata": {},
   "source": [
    "# 로그인 함수와 원본 이미지 추출 함수"
   ]
  },
  {
   "cell_type": "code",
   "execution_count": 2,
   "metadata": {},
   "outputs": [],
   "source": [
    "def login(username, password):\n",
    "    \"\"\"인스타그램 로그인 함수입니다. 쿠키값을 반환합니다.\"\"\"\n",
    "    login_url = 'https://www.instagram.com/accounts/login/ajax/'\n",
    "\n",
    "    payload = {\n",
    "        'username': username,\n",
    "        'enc_password': f'#PWD_INSTAGRAM_BROWSER:0:{int(time.time())}:{password}',\n",
    "        'queryParams': '{}',\n",
    "        'optIntoOneTap': 'false',\n",
    "        'stopDeletionNonce': '',\n",
    "        'trustedDeviceRecords': '{}',\n",
    "    }\n",
    "\n",
    "    with requests.Session() as s:\n",
    "        csrftoken = requests.get('https://www.instagram.com/accounts/login/').cookies['csrftoken']\n",
    "        r = s.post(login_url, data=payload, headers={\n",
    "            'user-agent': 'Mozilla/5.0 (Windows NT 10.0; Win64; x64) AppleWebKit/537.36 (KHTML, like Gecko) Chrome/99.0.4844.74 Safari/537.36',\n",
    "            'x-requested-with': 'XMLHttpRequest',\n",
    "            'referer': 'https://www.instagram.com/',\n",
    "            'x-csrftoken': csrftoken\n",
    "        })\n",
    "    \n",
    "    cookies = r.cookies.get_dict()\n",
    "    \n",
    "    # 로그인 성공여부 확인\n",
    "    if cookies.get('ds_user_id'):\n",
    "        print(True)\n",
    "    else:\n",
    "        print(False)\n",
    "        \n",
    "    return cookies\n",
    "\n",
    "def get_origin_image(media):\n",
    "    \"\"\"media에서 원본 사진을 가져옵니다. 리스트를 반환합니다.\"\"\"\n",
    "    origin_images = []\n",
    "    if media.get('carousel_media'):\n",
    "        for carousel_media in media['carousel_media']:\n",
    "            if media.get('video_versions'):\n",
    "                continue    # 영상은 스킵한다.\n",
    "                # video_versions = media['video_versions']\n",
    "                # origin_video = sorted(candidates,\n",
    "                #                       key=lambda video_version: video_version['width'],\n",
    "                #                       reverse=True)[0]['url']\n",
    "            candidates = carousel_media['image_versions2']['candidates']\n",
    "            origin_image = sorted(candidates, key=lambda candidate: candidate['width'], reverse=True)[0]['url']\n",
    "            origin_images.append([carousel_media['id'], media['taken_at'], origin_image])\n",
    "                    \n",
    "    else:\n",
    "        if media.get('video_versions'):\n",
    "            return origin_images\n",
    "        candidates = media['image_versions2']['candidates']\n",
    "        origin_image = sorted(candidates, key=lambda candidate: candidate['width'], reverse=True)[0]['url']\n",
    "        origin_images.append([media['id'], media['taken_at'], origin_image])\n",
    "    return origin_images\n",
    "\n",
    "def mkdirs(path_dir):\n",
    "    if not os.path.exists(path_dir):\n",
    "        os.makedirs(path_dir)"
   ]
  },
  {
   "cell_type": "markdown",
   "metadata": {},
   "source": [
    "# 크롤링 시작"
   ]
  },
  {
   "cell_type": "code",
   "execution_count": 3,
   "metadata": {},
   "outputs": [
    {
     "name": "stdout",
     "output_type": "stream",
     "text": [
      "True\n"
     ]
    }
   ],
   "source": [
    "# 로그인\n",
    "username = '{username}'\n",
    "password = '{password}'\n",
    "\n",
    "cookies = login(username=username, password=password)"
   ]
  },
  {
   "cell_type": "code",
   "execution_count": 10,
   "metadata": {},
   "outputs": [
    {
     "data": {
      "text/plain": [
       "dict_keys(['mid', 'ig_did', 'ig_nrcb', 'shbid', 'shbts', 'csrftoken', 'ds_user_id', 'sessionid', 'rur'])"
      ]
     },
     "execution_count": 10,
     "metadata": {},
     "output_type": "execute_result"
    }
   ],
   "source": [
    "cookies.keys()"
   ]
  },
  {
   "cell_type": "code",
   "execution_count": 5,
   "metadata": {},
   "outputs": [],
   "source": [
    "# 필요한 cookies, headers 및 data 생성\n",
    "cookies = {\n",
    "    'mid': cookies['mid'],\n",
    "    'ig_did': cookies['ig_did'],\n",
    "    'ig_nrcb': '1',\n",
    "    'shbid': '\"13409\\\\05441319676062\\\\0541679302382:01f7c49ebc0fc5160226c32f4a46829699c5f87ead915c19014a1d988067088a2bdeede2\"',\n",
    "    'shbts': '\"1647766382\\\\05441319676062\\\\0541679302382:01f7b1785c6fd4b9f04643b67728122f5ea806f0485f4bf90a8f07701f484e3b26b336c7\"',\n",
    "    'csrftoken': cookies['csrftoken'],\n",
    "    'ds_user_id': cookies['ds_user_id'],\n",
    "    'sessionid': cookies['sessionid'],\n",
    "    'rur': cookies['rur'],\n",
    "}\n",
    "\n",
    "headers = {\n",
    "    'authority': 'i.instagram.com',\n",
    "    'sec-ch-ua': '\" Not A;Brand\";v=\"99\", \"Chromium\";v=\"99\", \"Google Chrome\";v=\"99\"',\n",
    "    'x-ig-app-id': '936619743392459',\n",
    "    'x-ig-www-claim': 'hmac.AR2TYlo3TmJksgsgmVXXf1Z5plzoAT9NZk30ejeUuGm_MsFG',\n",
    "    'sec-ch-ua-mobile': '?0',\n",
    "    'x-instagram-ajax': 'fde055a3a0e4',\n",
    "    'content-type': 'application/x-www-form-urlencoded',\n",
    "    'accept': '*/*',\n",
    "    'user-agent': 'Mozilla/5.0 (Windows NT 10.0; Win64; x64) AppleWebKit/537.36 (KHTML, like Gecko) Chrome/99.0.4844.74 Safari/537.36',\n",
    "    'x-asbd-id': '198387',\n",
    "    'x-csrftoken': cookies['csrftoken'],\n",
    "    'sec-ch-ua-platform': '\"Windows\"',\n",
    "    'origin': 'https://www.instagram.com',\n",
    "    'sec-fetch-site': 'same-site',\n",
    "    'sec-fetch-mode': 'cors',\n",
    "    'sec-fetch-dest': 'empty',\n",
    "    'referer': 'https://www.instagram.com/',\n",
    "    'accept-language': 'ko-KR,ko;q=0.9,en-US;q=0.8,en;q=0.7,th;q=0.6',\n",
    "    # Requests sorts cookies= alphabetically\n",
    "    # 'cookie': 'mid=YNj0jQALAAFseBFmmfpRDzFSV_BT; ig_did=1996DD5D-2FB1-4BE9-ADB1-0EE33EDA47B1; ig_nrcb=1; shbid=\"13409\\\\05441319676062\\\\0541679302382:01f7c49ebc0fc5160226c32f4a46829699c5f87ead915c19014a1d988067088a2bdeede2\"; shbts=\"1647766382\\\\05441319676062\\\\0541679302382:01f7b1785c6fd4b9f04643b67728122f5ea806f0485f4bf90a8f07701f484e3b26b336c7\"; csrftoken=YjVqxSp9RmOmaia58YFD5cOCYamI1ul3; ds_user_id=41319676062; sessionid=41319676062%3AZWNhhePnUvAO4a%3A16; rur=\"NAO\\\\05441319676062\\\\0541679321348:01f7583980e3a91fc37873ce58fefcbc8e887c50a66d869f211fb7a99174bfbed73c5e8b\"',\n",
    "}\n",
    "\n",
    "# 0페이지부터 크롤링\n",
    "data = {\n",
    "    'include_persistent': '0',\n",
    "    # 'max_id': 'QVFCVjNHdk01dDhVTkRYcWlueERYOUszUGtobVdwV0R1NE5lSzk2ZEl1SGEyOWNzLUdDVk5kSE50YlF4M0RJMmRrOFZmem8wcHRyNExwT0szekdmalhMMw==',\n",
    "    # 'page': 1,\n",
    "    'surface': 'grid',\n",
    "    'tab': 'recent',\n",
    "}"
   ]
  },
  {
   "cell_type": "code",
   "execution_count": 6,
   "metadata": {},
   "outputs": [],
   "source": [
    "# 태그로 크롤링\n",
    "tag = 'welshcorgi'\n",
    "data['page'] = 0\n",
    "data['max_id'] = ''"
   ]
  },
  {
   "cell_type": "code",
   "execution_count": 7,
   "metadata": {},
   "outputs": [
    {
     "name": "stdout",
     "output_type": "stream",
     "text": [
      "162 / 100"
     ]
    }
   ],
   "source": [
    "num_posts = 100 # 필요한 이미지 개수\n",
    "images = []\n",
    "\n",
    "while len(images) <= num_posts:\n",
    "    print(f'\\r{len(images)} / {num_posts}', end='')\n",
    "    res = requests.post(f'https://i.instagram.com/api/v1/tags/{tag}/sections/',\n",
    "                        headers=headers, cookies=cookies, data=data)\n",
    "    json_data = res.json()\n",
    "    \n",
    "    sections = json_data['sections']\n",
    "\n",
    "    for section in sections:\n",
    "        medias = section['layout_content']['medias']\n",
    "        for media in medias:\n",
    "            images += get_origin_image(media['media'])\n",
    "\n",
    "    data['max_id'] = json_data['next_max_id']\n",
    "    data['page'] = json_data['next_page']\n",
    "    \n",
    "    time.sleep(2)\n",
    "\n",
    "print(f'\\r{len(images)} / {num_posts}', end='')"
   ]
  },
  {
   "cell_type": "code",
   "execution_count": 9,
   "metadata": {},
   "outputs": [
    {
     "data": {
      "text/plain": [
       "146"
      ]
     },
     "execution_count": 9,
     "metadata": {},
     "output_type": "execute_result"
    }
   ],
   "source": [
    "len(images)"
   ]
  },
  {
   "cell_type": "code",
   "execution_count": 108,
   "metadata": {},
   "outputs": [
    {
     "data": {
      "text/html": [
       "<div>\n",
       "<style scoped>\n",
       "    .dataframe tbody tr th:only-of-type {\n",
       "        vertical-align: middle;\n",
       "    }\n",
       "\n",
       "    .dataframe tbody tr th {\n",
       "        vertical-align: top;\n",
       "    }\n",
       "\n",
       "    .dataframe thead th {\n",
       "        text-align: right;\n",
       "    }\n",
       "</style>\n",
       "<table border=\"1\" class=\"dataframe\">\n",
       "  <thead>\n",
       "    <tr style=\"text-align: right;\">\n",
       "      <th></th>\n",
       "      <th>media_id</th>\n",
       "      <th>timestamp</th>\n",
       "      <th>url</th>\n",
       "    </tr>\n",
       "  </thead>\n",
       "  <tbody>\n",
       "    <tr>\n",
       "      <th>0</th>\n",
       "      <td>2798263917856992275_2077759989</td>\n",
       "      <td>1647799076</td>\n",
       "      <td>https://scontent-ssn1-1.cdninstagram.com/v/t51...</td>\n",
       "    </tr>\n",
       "    <tr>\n",
       "      <th>1</th>\n",
       "      <td>2798263917840255443_2077759989</td>\n",
       "      <td>1647799076</td>\n",
       "      <td>https://scontent-ssn1-1.cdninstagram.com/v/t51...</td>\n",
       "    </tr>\n",
       "    <tr>\n",
       "      <th>2</th>\n",
       "      <td>2798263917655718851_2077759989</td>\n",
       "      <td>1647799076</td>\n",
       "      <td>https://scontent-ssn1-1.cdninstagram.com/v/t51...</td>\n",
       "    </tr>\n",
       "    <tr>\n",
       "      <th>3</th>\n",
       "      <td>2798262518419839486_36105660916</td>\n",
       "      <td>1647798908</td>\n",
       "      <td>https://scontent-ssn1-1.cdninstagram.com/v/t51...</td>\n",
       "    </tr>\n",
       "    <tr>\n",
       "      <th>4</th>\n",
       "      <td>2798262518444999986_36105660916</td>\n",
       "      <td>1647798908</td>\n",
       "      <td>https://scontent-ssn1-1.cdninstagram.com/v/t51...</td>\n",
       "    </tr>\n",
       "    <tr>\n",
       "      <th>...</th>\n",
       "      <td>...</td>\n",
       "      <td>...</td>\n",
       "      <td>...</td>\n",
       "    </tr>\n",
       "    <tr>\n",
       "      <th>1054</th>\n",
       "      <td>2797991437194962381_1751467914</td>\n",
       "      <td>1647766609</td>\n",
       "      <td>https://scontent-ssn1-1.cdninstagram.com/v/t51...</td>\n",
       "    </tr>\n",
       "    <tr>\n",
       "      <th>1055</th>\n",
       "      <td>2797991514185475961_1751467914</td>\n",
       "      <td>1647766609</td>\n",
       "      <td>https://scontent-ssn1-1.cdninstagram.com/v/t51...</td>\n",
       "    </tr>\n",
       "    <tr>\n",
       "      <th>1056</th>\n",
       "      <td>2797991572966110057_1751467914</td>\n",
       "      <td>1647766609</td>\n",
       "      <td>https://scontent-ssn1-1.cdninstagram.com/v/t51...</td>\n",
       "    </tr>\n",
       "    <tr>\n",
       "      <th>1057</th>\n",
       "      <td>2797991572664101855_1751467914</td>\n",
       "      <td>1647766609</td>\n",
       "      <td>https://scontent-ssn1-1.cdninstagram.com/v/t51...</td>\n",
       "    </tr>\n",
       "    <tr>\n",
       "      <th>1058</th>\n",
       "      <td>2797991572747886287_1751467914</td>\n",
       "      <td>1647766609</td>\n",
       "      <td>https://scontent-ssn1-1.cdninstagram.com/v/t51...</td>\n",
       "    </tr>\n",
       "  </tbody>\n",
       "</table>\n",
       "<p>1059 rows × 3 columns</p>\n",
       "</div>"
      ],
      "text/plain": [
       "                             media_id   timestamp  \\\n",
       "0      2798263917856992275_2077759989  1647799076   \n",
       "1      2798263917840255443_2077759989  1647799076   \n",
       "2      2798263917655718851_2077759989  1647799076   \n",
       "3     2798262518419839486_36105660916  1647798908   \n",
       "4     2798262518444999986_36105660916  1647798908   \n",
       "...                               ...         ...   \n",
       "1054   2797991437194962381_1751467914  1647766609   \n",
       "1055   2797991514185475961_1751467914  1647766609   \n",
       "1056   2797991572966110057_1751467914  1647766609   \n",
       "1057   2797991572664101855_1751467914  1647766609   \n",
       "1058   2797991572747886287_1751467914  1647766609   \n",
       "\n",
       "                                                    url  \n",
       "0     https://scontent-ssn1-1.cdninstagram.com/v/t51...  \n",
       "1     https://scontent-ssn1-1.cdninstagram.com/v/t51...  \n",
       "2     https://scontent-ssn1-1.cdninstagram.com/v/t51...  \n",
       "3     https://scontent-ssn1-1.cdninstagram.com/v/t51...  \n",
       "4     https://scontent-ssn1-1.cdninstagram.com/v/t51...  \n",
       "...                                                 ...  \n",
       "1054  https://scontent-ssn1-1.cdninstagram.com/v/t51...  \n",
       "1055  https://scontent-ssn1-1.cdninstagram.com/v/t51...  \n",
       "1056  https://scontent-ssn1-1.cdninstagram.com/v/t51...  \n",
       "1057  https://scontent-ssn1-1.cdninstagram.com/v/t51...  \n",
       "1058  https://scontent-ssn1-1.cdninstagram.com/v/t51...  \n",
       "\n",
       "[1059 rows x 3 columns]"
      ]
     },
     "execution_count": 108,
     "metadata": {},
     "output_type": "execute_result"
    }
   ],
   "source": [
    "next_max_id = json_data['next_max_id']\n",
    "columns = ['media_id', 'timestamp', 'url']\n",
    "df = pd.DataFrame(data=images, columns=columns)\n",
    "df"
   ]
  },
  {
   "cell_type": "markdown",
   "metadata": {},
   "source": [
    "# database에 저장"
   ]
  },
  {
   "cell_type": "code",
   "execution_count": 109,
   "metadata": {},
   "outputs": [],
   "source": [
    "# next_max_id 데이터 추가\n",
    "with sqlite3.connect('instagram.db') as conn:\n",
    "    table = 'next_max_id'\n",
    "    cur = conn.cursor()\n",
    "    sql = f\"\"\"CREATE TABLE IF NOT EXISTS {table} (\n",
    "            name TEXT PRIMARY KEY,\n",
    "            media_id TEXT\n",
    "        );\"\"\"\n",
    "    cur.execute(sql)\n",
    "    \n",
    "    sql = f\"\"\"REPLACE INTO {table} (name, media_id) VALUES (?, ?);\"\"\"\n",
    "    cur.execute(sql, (tag, next_max_id))"
   ]
  },
  {
   "cell_type": "code",
   "execution_count": 110,
   "metadata": {},
   "outputs": [],
   "source": [
    "with sqlite3.connect('instagram.db') as conn:\n",
    "    df.to_sql(name=tag,             # 테이블 이름\n",
    "              con=conn,             # connection 객체\n",
    "              index=False,          # index 무시\n",
    "              if_exists='replace',  # 이미 존재하는 테이블 삭제 후 추가\n",
    "              chunksize=1000,       # 해당 행 개수만큼 끊어서 데이터 추가\n",
    "              )"
   ]
  },
  {
   "cell_type": "markdown",
   "metadata": {},
   "source": [
    "# database에서 불러오기"
   ]
  },
  {
   "cell_type": "code",
   "execution_count": 116,
   "metadata": {},
   "outputs": [],
   "source": [
    "with sqlite3.connect('instagram.db') as conn:\n",
    "    df_from_db = pd.read_sql(f'SELECT * FROM {tag}', con=conn, index_col='media_id')"
   ]
  },
  {
   "cell_type": "code",
   "execution_count": 117,
   "metadata": {},
   "outputs": [
    {
     "data": {
      "text/html": [
       "<div>\n",
       "<style scoped>\n",
       "    .dataframe tbody tr th:only-of-type {\n",
       "        vertical-align: middle;\n",
       "    }\n",
       "\n",
       "    .dataframe tbody tr th {\n",
       "        vertical-align: top;\n",
       "    }\n",
       "\n",
       "    .dataframe thead th {\n",
       "        text-align: right;\n",
       "    }\n",
       "</style>\n",
       "<table border=\"1\" class=\"dataframe\">\n",
       "  <thead>\n",
       "    <tr style=\"text-align: right;\">\n",
       "      <th></th>\n",
       "      <th>timestamp</th>\n",
       "      <th>url</th>\n",
       "    </tr>\n",
       "    <tr>\n",
       "      <th>media_id</th>\n",
       "      <th></th>\n",
       "      <th></th>\n",
       "    </tr>\n",
       "  </thead>\n",
       "  <tbody>\n",
       "    <tr>\n",
       "      <th>2798263917856992275_2077759989</th>\n",
       "      <td>1647799076</td>\n",
       "      <td>https://scontent-ssn1-1.cdninstagram.com/v/t51...</td>\n",
       "    </tr>\n",
       "    <tr>\n",
       "      <th>2798263917840255443_2077759989</th>\n",
       "      <td>1647799076</td>\n",
       "      <td>https://scontent-ssn1-1.cdninstagram.com/v/t51...</td>\n",
       "    </tr>\n",
       "    <tr>\n",
       "      <th>2798263917655718851_2077759989</th>\n",
       "      <td>1647799076</td>\n",
       "      <td>https://scontent-ssn1-1.cdninstagram.com/v/t51...</td>\n",
       "    </tr>\n",
       "    <tr>\n",
       "      <th>2798262518419839486_36105660916</th>\n",
       "      <td>1647798908</td>\n",
       "      <td>https://scontent-ssn1-1.cdninstagram.com/v/t51...</td>\n",
       "    </tr>\n",
       "    <tr>\n",
       "      <th>2798262518444999986_36105660916</th>\n",
       "      <td>1647798908</td>\n",
       "      <td>https://scontent-ssn1-1.cdninstagram.com/v/t51...</td>\n",
       "    </tr>\n",
       "    <tr>\n",
       "      <th>...</th>\n",
       "      <td>...</td>\n",
       "      <td>...</td>\n",
       "    </tr>\n",
       "    <tr>\n",
       "      <th>2797991437194962381_1751467914</th>\n",
       "      <td>1647766609</td>\n",
       "      <td>https://scontent-ssn1-1.cdninstagram.com/v/t51...</td>\n",
       "    </tr>\n",
       "    <tr>\n",
       "      <th>2797991514185475961_1751467914</th>\n",
       "      <td>1647766609</td>\n",
       "      <td>https://scontent-ssn1-1.cdninstagram.com/v/t51...</td>\n",
       "    </tr>\n",
       "    <tr>\n",
       "      <th>2797991572966110057_1751467914</th>\n",
       "      <td>1647766609</td>\n",
       "      <td>https://scontent-ssn1-1.cdninstagram.com/v/t51...</td>\n",
       "    </tr>\n",
       "    <tr>\n",
       "      <th>2797991572664101855_1751467914</th>\n",
       "      <td>1647766609</td>\n",
       "      <td>https://scontent-ssn1-1.cdninstagram.com/v/t51...</td>\n",
       "    </tr>\n",
       "    <tr>\n",
       "      <th>2797991572747886287_1751467914</th>\n",
       "      <td>1647766609</td>\n",
       "      <td>https://scontent-ssn1-1.cdninstagram.com/v/t51...</td>\n",
       "    </tr>\n",
       "  </tbody>\n",
       "</table>\n",
       "<p>1059 rows × 2 columns</p>\n",
       "</div>"
      ],
      "text/plain": [
       "                                  timestamp  \\\n",
       "media_id                                      \n",
       "2798263917856992275_2077759989   1647799076   \n",
       "2798263917840255443_2077759989   1647799076   \n",
       "2798263917655718851_2077759989   1647799076   \n",
       "2798262518419839486_36105660916  1647798908   \n",
       "2798262518444999986_36105660916  1647798908   \n",
       "...                                     ...   \n",
       "2797991437194962381_1751467914   1647766609   \n",
       "2797991514185475961_1751467914   1647766609   \n",
       "2797991572966110057_1751467914   1647766609   \n",
       "2797991572664101855_1751467914   1647766609   \n",
       "2797991572747886287_1751467914   1647766609   \n",
       "\n",
       "                                                                               url  \n",
       "media_id                                                                            \n",
       "2798263917856992275_2077759989   https://scontent-ssn1-1.cdninstagram.com/v/t51...  \n",
       "2798263917840255443_2077759989   https://scontent-ssn1-1.cdninstagram.com/v/t51...  \n",
       "2798263917655718851_2077759989   https://scontent-ssn1-1.cdninstagram.com/v/t51...  \n",
       "2798262518419839486_36105660916  https://scontent-ssn1-1.cdninstagram.com/v/t51...  \n",
       "2798262518444999986_36105660916  https://scontent-ssn1-1.cdninstagram.com/v/t51...  \n",
       "...                                                                            ...  \n",
       "2797991437194962381_1751467914   https://scontent-ssn1-1.cdninstagram.com/v/t51...  \n",
       "2797991514185475961_1751467914   https://scontent-ssn1-1.cdninstagram.com/v/t51...  \n",
       "2797991572966110057_1751467914   https://scontent-ssn1-1.cdninstagram.com/v/t51...  \n",
       "2797991572664101855_1751467914   https://scontent-ssn1-1.cdninstagram.com/v/t51...  \n",
       "2797991572747886287_1751467914   https://scontent-ssn1-1.cdninstagram.com/v/t51...  \n",
       "\n",
       "[1059 rows x 2 columns]"
      ]
     },
     "execution_count": 117,
     "metadata": {},
     "output_type": "execute_result"
    }
   ],
   "source": [
    "df_from_db"
   ]
  },
  {
   "cell_type": "markdown",
   "metadata": {},
   "source": [
    "# 크롤링한 이미지 저장"
   ]
  },
  {
   "cell_type": "code",
   "execution_count": 143,
   "metadata": {},
   "outputs": [],
   "source": [
    "path_to_dataset = r'C:\\project\\Machine Learning Project\\yolov3\\tf2-keras-yolo3-master\\견종_10종\\test'\n",
    "\n",
    "\n",
    "for i in range(len(df_from_db))[:10]:\n",
    "    url = df_from_db.iloc[i].url\n",
    "    media_id = df_from_db.iloc[i].name\n",
    "    timestamp = df_from_db.iloc[i].timestamp\n",
    "    time_str = time.strftime('%Y-%m-%d %H.%M.%S', time.localtime(int(timestamp)))\n",
    "\n",
    "    filename = f\"{path_to_dataset}/#{tag}/{time_str} {media_id}.jpg\"\n",
    "    mkdirs(os.path.dirname(filename))\n",
    "    \n",
    "    chunk_size = 1024\n",
    "    start = 0\n",
    "    with requests.Session().get(url, stream=True) as r:\n",
    "        with open(filename, 'wb') as fp:\n",
    "            for chunk in r.iter_content(chunk_size=chunk_size):\n",
    "                fp.seek(start)\n",
    "                fp.write(chunk)\n",
    "                start += chunk_size"
   ]
  },
  {
   "cell_type": "code",
   "execution_count": null,
   "metadata": {},
   "outputs": [],
   "source": []
  }
 ],
 "metadata": {
  "interpreter": {
   "hash": "c28cf81ce7e05307cac5bc6eabcf2e0a148d85a4a1e011fb8ba5e9db111700c7"
  },
  "kernelspec": {
   "display_name": "Python 3.7.11 ('pet')",
   "language": "python",
   "name": "python3"
  },
  "language_info": {
   "codemirror_mode": {
    "name": "ipython",
    "version": 3
   },
   "file_extension": ".py",
   "mimetype": "text/x-python",
   "name": "python",
   "nbconvert_exporter": "python",
   "pygments_lexer": "ipython3",
   "version": "3.7.11"
  },
  "orig_nbformat": 4
 },
 "nbformat": 4,
 "nbformat_minor": 2
}
