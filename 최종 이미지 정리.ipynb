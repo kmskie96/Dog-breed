{
 "cells": [
  {
   "cell_type": "code",
   "execution_count": null,
   "metadata": {},
   "outputs": [],
   "source": [
    "# pip install pandas"
   ]
  },
  {
   "cell_type": "code",
   "execution_count": 1,
   "metadata": {},
   "outputs": [],
   "source": [
    "import pandas as pd\n",
    "import numpy as np\n",
    "from glob import glob\n",
    "import os, shutil\n",
    "from os.path import join, basename, splitext, dirname\n",
    "from xml.etree.ElementTree import ElementTree"
   ]
  },
  {
   "cell_type": "code",
   "execution_count": 2,
   "metadata": {},
   "outputs": [],
   "source": [
    "def mkdirs(path_dir):\n",
    "    if not os.path.exists(path_dir):\n",
    "        os.makedirs(path_dir)\n",
    "        \n",
    "def get_data(image):\n",
    "    \"\"\"이미지 파일 경로를 받아 xml을 읽고 필요한 정보를 가져옵니다.\"\"\"\n",
    "    breed_folder = basename(dirname(image))\n",
    "    xml_file = join(Annotations_folder, breed_folder, f'{basename(splitext(image)[0])}.xml')\n",
    "    \n",
    "    root = ElementTree().parse(xml_file)\n",
    "\n",
    "    object_ = root.find('object')\n",
    "    name = object_.find('name').text\n",
    "    bndbox = object_.find('bndbox')\n",
    "    xmin, ymin, xmax, ymax = map(lambda e: int(e.text), bndbox[:4])\n",
    "    \n",
    "    return join(breed_folder, basename(image)), xmin, ymin, xmax, ymax, name"
   ]
  },
  {
   "cell_type": "code",
   "execution_count": 3,
   "metadata": {},
   "outputs": [],
   "source": [
    "# 품종 - 폴더 이름\n",
    "path_to_dataset = r'C:\\project\\Machine Learning Project\\yolov3\\tf2-keras-yolo3-master\\견종_10종'\n",
    "Final_folder = join(path_to_dataset, '최종')\n",
    "Crop_folder = join(path_to_dataset, '수작업 처리 후')\n",
    "Annotations_folder = join(path_to_dataset, 'Annotations')"
   ]
  },
  {
   "cell_type": "code",
   "execution_count": 4,
   "metadata": {},
   "outputs": [],
   "source": [
    "X = glob(join(Crop_folder, '*', '*.jpg'))\n",
    "y = np.array([get_data(image) for image in X])"
   ]
  },
  {
   "cell_type": "code",
   "execution_count": 5,
   "metadata": {},
   "outputs": [
    {
     "data": {
      "text/html": [
       "<div>\n",
       "<style scoped>\n",
       "    .dataframe tbody tr th:only-of-type {\n",
       "        vertical-align: middle;\n",
       "    }\n",
       "\n",
       "    .dataframe tbody tr th {\n",
       "        vertical-align: top;\n",
       "    }\n",
       "\n",
       "    .dataframe thead th {\n",
       "        text-align: right;\n",
       "    }\n",
       "</style>\n",
       "<table border=\"1\" class=\"dataframe\">\n",
       "  <thead>\n",
       "    <tr style=\"text-align: right;\">\n",
       "      <th></th>\n",
       "      <th>image</th>\n",
       "      <th>xmin</th>\n",
       "      <th>ymin</th>\n",
       "      <th>xmax</th>\n",
       "      <th>ymax</th>\n",
       "      <th>breed</th>\n",
       "    </tr>\n",
       "  </thead>\n",
       "  <tbody>\n",
       "    <tr>\n",
       "      <th>0</th>\n",
       "      <td>#beaglelove\\2022-02-03 10.30.07 27651518371566...</td>\n",
       "      <td>156</td>\n",
       "      <td>90</td>\n",
       "      <td>858</td>\n",
       "      <td>444</td>\n",
       "      <td>BEAGLE</td>\n",
       "    </tr>\n",
       "    <tr>\n",
       "      <th>1</th>\n",
       "      <td>#beaglelove\\2022-02-14 01.28.57 27728519918797...</td>\n",
       "      <td>10</td>\n",
       "      <td>137</td>\n",
       "      <td>1190</td>\n",
       "      <td>1642</td>\n",
       "      <td>BEAGLE</td>\n",
       "    </tr>\n",
       "    <tr>\n",
       "      <th>2</th>\n",
       "      <td>#beaglelove\\2022-02-14 05.48.11 27729824607300...</td>\n",
       "      <td>521</td>\n",
       "      <td>476</td>\n",
       "      <td>1051</td>\n",
       "      <td>1339</td>\n",
       "      <td>BEAGLE</td>\n",
       "    </tr>\n",
       "    <tr>\n",
       "      <th>3</th>\n",
       "      <td>#beaglelove\\2022-02-14 05.48.11 27729824607467...</td>\n",
       "      <td>550</td>\n",
       "      <td>792</td>\n",
       "      <td>1273</td>\n",
       "      <td>1366</td>\n",
       "      <td>BEAGLE</td>\n",
       "    </tr>\n",
       "    <tr>\n",
       "      <th>4</th>\n",
       "      <td>#beaglelove\\2022-02-21 00.05.22 27778833553337...</td>\n",
       "      <td>305</td>\n",
       "      <td>498</td>\n",
       "      <td>430</td>\n",
       "      <td>748</td>\n",
       "      <td>BEAGLE</td>\n",
       "    </tr>\n",
       "    <tr>\n",
       "      <th>...</th>\n",
       "      <td>...</td>\n",
       "      <td>...</td>\n",
       "      <td>...</td>\n",
       "      <td>...</td>\n",
       "      <td>...</td>\n",
       "      <td>...</td>\n",
       "    </tr>\n",
       "    <tr>\n",
       "      <th>5892</th>\n",
       "      <td>#welshcorgi\\2022-03-06 12.21.22 27876758715999...</td>\n",
       "      <td>94</td>\n",
       "      <td>365</td>\n",
       "      <td>299</td>\n",
       "      <td>627</td>\n",
       "      <td>WELSH CORGI</td>\n",
       "    </tr>\n",
       "    <tr>\n",
       "      <th>5893</th>\n",
       "      <td>#welshcorgi\\2022-03-06 12.35.57 27876832149052...</td>\n",
       "      <td>5</td>\n",
       "      <td>212</td>\n",
       "      <td>1362</td>\n",
       "      <td>1799</td>\n",
       "      <td>WELSH CORGI</td>\n",
       "    </tr>\n",
       "    <tr>\n",
       "      <th>5894</th>\n",
       "      <td>#welshcorgi\\2022-03-06 12.35.57 27876832149136...</td>\n",
       "      <td>11</td>\n",
       "      <td>101</td>\n",
       "      <td>1343</td>\n",
       "      <td>1777</td>\n",
       "      <td>WELSH CORGI</td>\n",
       "    </tr>\n",
       "    <tr>\n",
       "      <th>5895</th>\n",
       "      <td>#welshcorgi\\2022-03-06 12.35.57 27876832150310...</td>\n",
       "      <td>1</td>\n",
       "      <td>145</td>\n",
       "      <td>1326</td>\n",
       "      <td>1778</td>\n",
       "      <td>WELSH CORGI</td>\n",
       "    </tr>\n",
       "    <tr>\n",
       "      <th>5896</th>\n",
       "      <td>#welshcorgi\\2022-03-06 12.39.54 27876852059481...</td>\n",
       "      <td>239</td>\n",
       "      <td>420</td>\n",
       "      <td>1008</td>\n",
       "      <td>1248</td>\n",
       "      <td>WELSH CORGI</td>\n",
       "    </tr>\n",
       "  </tbody>\n",
       "</table>\n",
       "<p>5897 rows × 6 columns</p>\n",
       "</div>"
      ],
      "text/plain": [
       "                                                  image xmin ymin  xmax  ymax  \\\n",
       "0     #beaglelove\\2022-02-03 10.30.07 27651518371566...  156   90   858   444   \n",
       "1     #beaglelove\\2022-02-14 01.28.57 27728519918797...   10  137  1190  1642   \n",
       "2     #beaglelove\\2022-02-14 05.48.11 27729824607300...  521  476  1051  1339   \n",
       "3     #beaglelove\\2022-02-14 05.48.11 27729824607467...  550  792  1273  1366   \n",
       "4     #beaglelove\\2022-02-21 00.05.22 27778833553337...  305  498   430   748   \n",
       "...                                                 ...  ...  ...   ...   ...   \n",
       "5892  #welshcorgi\\2022-03-06 12.21.22 27876758715999...   94  365   299   627   \n",
       "5893  #welshcorgi\\2022-03-06 12.35.57 27876832149052...    5  212  1362  1799   \n",
       "5894  #welshcorgi\\2022-03-06 12.35.57 27876832149136...   11  101  1343  1777   \n",
       "5895  #welshcorgi\\2022-03-06 12.35.57 27876832150310...    1  145  1326  1778   \n",
       "5896  #welshcorgi\\2022-03-06 12.39.54 27876852059481...  239  420  1008  1248   \n",
       "\n",
       "            breed  \n",
       "0          BEAGLE  \n",
       "1          BEAGLE  \n",
       "2          BEAGLE  \n",
       "3          BEAGLE  \n",
       "4          BEAGLE  \n",
       "...           ...  \n",
       "5892  WELSH CORGI  \n",
       "5893  WELSH CORGI  \n",
       "5894  WELSH CORGI  \n",
       "5895  WELSH CORGI  \n",
       "5896  WELSH CORGI  \n",
       "\n",
       "[5897 rows x 6 columns]"
      ]
     },
     "execution_count": 5,
     "metadata": {},
     "output_type": "execute_result"
    }
   ],
   "source": [
    "# DataFrame 객체 생성\n",
    "df = pd.DataFrame(data=y, columns=['image', 'xmin', 'ymin', 'xmax', 'ymax', 'breed'])\n",
    "df"
   ]
  },
  {
   "cell_type": "code",
   "execution_count": 6,
   "metadata": {},
   "outputs": [
    {
     "data": {
      "text/plain": [
       "image    object\n",
       "xmin      int32\n",
       "ymin      int32\n",
       "xmax      int32\n",
       "ymax      int32\n",
       "breed    object\n",
       "dtype: object"
      ]
     },
     "execution_count": 6,
     "metadata": {},
     "output_type": "execute_result"
    }
   ],
   "source": [
    "# 데이터 타입 변환\n",
    "for column in ['xmin', 'ymin', 'xmax', 'ymax']:\n",
    "    df[column] = df[column].astype('int32')\n",
    "    \n",
    "df.dtypes"
   ]
  },
  {
   "cell_type": "code",
   "execution_count": 7,
   "metadata": {},
   "outputs": [],
   "source": [
    "# csv로 저장\n",
    "df.to_csv(join(Final_folder, 'dog.csv'))"
   ]
  },
  {
   "cell_type": "code",
   "execution_count": 9,
   "metadata": {},
   "outputs": [],
   "source": [
    "# 원본 이미지 복사\n",
    "for image in df.image:\n",
    "    mkdirs(join(Final_folder, basename(dirname(image))))\n",
    "    original = join(path_to_dataset, '원본', image)\n",
    "    copy = join(Final_folder, image)\n",
    "    shutil.copy(original, copy)\n",
    "    # print(original, copy)"
   ]
  },
  {
   "cell_type": "code",
   "execution_count": null,
   "metadata": {},
   "outputs": [],
   "source": []
  }
 ],
 "metadata": {
  "interpreter": {
   "hash": "083918b879545b7a21c3503970f6b40b6faebbe634014fdb8a699fb48753dde9"
  },
  "kernelspec": {
   "display_name": "Python 3.9.7 ('dog')",
   "language": "python",
   "name": "python3"
  },
  "language_info": {
   "codemirror_mode": {
    "name": "ipython",
    "version": 3
   },
   "file_extension": ".py",
   "mimetype": "text/x-python",
   "name": "python",
   "nbconvert_exporter": "python",
   "pygments_lexer": "ipython3",
   "version": "3.7.11"
  },
  "orig_nbformat": 4
 },
 "nbformat": 4,
 "nbformat_minor": 2
}
